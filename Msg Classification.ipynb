{
 "cells": [
  {
   "cell_type": "code",
   "execution_count": 1,
   "id": "156f1348",
   "metadata": {},
   "outputs": [],
   "source": [
    "import os\n",
    "import pandas as pd\n",
    "import tensorflow as tf\n",
    "import numpy as np\n",
    "import pickle"
   ]
  },
  {
   "cell_type": "code",
   "execution_count": 8,
   "id": "477f5b93",
   "metadata": {},
   "outputs": [
    {
     "data": {
      "text/html": [
       "<div>\n",
       "<style scoped>\n",
       "    .dataframe tbody tr th:only-of-type {\n",
       "        vertical-align: middle;\n",
       "    }\n",
       "\n",
       "    .dataframe tbody tr th {\n",
       "        vertical-align: top;\n",
       "    }\n",
       "\n",
       "    .dataframe thead th {\n",
       "        text-align: right;\n",
       "    }\n",
       "</style>\n",
       "<table border=\"1\" class=\"dataframe\">\n",
       "  <thead>\n",
       "    <tr style=\"text-align: right;\">\n",
       "      <th></th>\n",
       "      <th>Message</th>\n",
       "      <th>Type</th>\n",
       "    </tr>\n",
       "  </thead>\n",
       "  <tbody>\n",
       "    <tr>\n",
       "      <th>0</th>\n",
       "      <td>Rs.400.00 credited to a/c *1234 on 06/06/2024 ...</td>\n",
       "      <td>Transaction</td>\n",
       "    </tr>\n",
       "    <tr>\n",
       "      <th>1</th>\n",
       "      <td>A/c *4354 debited Rs. 10000.00 on 13-06-24 to ...</td>\n",
       "      <td>Transaction</td>\n",
       "    </tr>\n",
       "    <tr>\n",
       "      <th>2</th>\n",
       "      <td>Rs.12100.00 credited to a/c *8984 on 29/05/202...</td>\n",
       "      <td>Transaction</td>\n",
       "    </tr>\n",
       "    <tr>\n",
       "      <th>3</th>\n",
       "      <td>Rs.100.00 credited to a/c *4244 on 08/05/2024 ...</td>\n",
       "      <td>Transaction</td>\n",
       "    </tr>\n",
       "    <tr>\n",
       "      <th>4</th>\n",
       "      <td>Qwerty has requested money from you on PhonePe...</td>\n",
       "      <td>Transaction</td>\n",
       "    </tr>\n",
       "  </tbody>\n",
       "</table>\n",
       "</div>"
      ],
      "text/plain": [
       "                                             Message         Type\n",
       "0  Rs.400.00 credited to a/c *1234 on 06/06/2024 ...  Transaction\n",
       "1  A/c *4354 debited Rs. 10000.00 on 13-06-24 to ...  Transaction\n",
       "2  Rs.12100.00 credited to a/c *8984 on 29/05/202...  Transaction\n",
       "3  Rs.100.00 credited to a/c *4244 on 08/05/2024 ...  Transaction\n",
       "4  Qwerty has requested money from you on PhonePe...  Transaction"
      ]
     },
     "execution_count": 8,
     "metadata": {},
     "output_type": "execute_result"
    }
   ],
   "source": [
    "data = pd.read_csv(\"Msg.csv\")\n",
    "data.head()"
   ]
  },
  {
   "cell_type": "code",
   "execution_count": 9,
   "id": "e4d5ccd5",
   "metadata": {},
   "outputs": [
    {
     "data": {
      "text/plain": [
       "Index(['Message', 'Type'], dtype='object')"
      ]
     },
     "execution_count": 9,
     "metadata": {},
     "output_type": "execute_result"
    }
   ],
   "source": [
    "data.columns"
   ]
  },
  {
   "cell_type": "code",
   "execution_count": 10,
   "id": "fc8085d3",
   "metadata": {},
   "outputs": [
    {
     "data": {
      "text/plain": [
       "<bound method Series.unique of 0     Transaction\n",
       "1     Transaction\n",
       "2     Transaction\n",
       "3     Transaction\n",
       "4     Transaction\n",
       "         ...     \n",
       "62     Bank Promo\n",
       "63     Bank Promo\n",
       "64     Bank Promo\n",
       "65     Bank Promo\n",
       "66     Bank Promo\n",
       "Name: Type, Length: 67, dtype: object>"
      ]
     },
     "execution_count": 10,
     "metadata": {},
     "output_type": "execute_result"
    }
   ],
   "source": [
    "data['Type'].unique"
   ]
  },
  {
   "cell_type": "code",
   "execution_count": 11,
   "id": "84e0630a",
   "metadata": {},
   "outputs": [
    {
     "data": {
      "text/html": [
       "<div>\n",
       "<style scoped>\n",
       "    .dataframe tbody tr th:only-of-type {\n",
       "        vertical-align: middle;\n",
       "    }\n",
       "\n",
       "    .dataframe tbody tr th {\n",
       "        vertical-align: top;\n",
       "    }\n",
       "\n",
       "    .dataframe thead th {\n",
       "        text-align: right;\n",
       "    }\n",
       "</style>\n",
       "<table border=\"1\" class=\"dataframe\">\n",
       "  <thead>\n",
       "    <tr style=\"text-align: right;\">\n",
       "      <th></th>\n",
       "      <th>Message</th>\n",
       "      <th>Type_Bank Promo</th>\n",
       "      <th>Type_Transaction</th>\n",
       "    </tr>\n",
       "  </thead>\n",
       "  <tbody>\n",
       "    <tr>\n",
       "      <th>0</th>\n",
       "      <td>Rs.400.00 credited to a/c *1234 on 06/06/2024 ...</td>\n",
       "      <td>0</td>\n",
       "      <td>1</td>\n",
       "    </tr>\n",
       "    <tr>\n",
       "      <th>1</th>\n",
       "      <td>A/c *4354 debited Rs. 10000.00 on 13-06-24 to ...</td>\n",
       "      <td>0</td>\n",
       "      <td>1</td>\n",
       "    </tr>\n",
       "    <tr>\n",
       "      <th>2</th>\n",
       "      <td>Rs.12100.00 credited to a/c *8984 on 29/05/202...</td>\n",
       "      <td>0</td>\n",
       "      <td>1</td>\n",
       "    </tr>\n",
       "    <tr>\n",
       "      <th>3</th>\n",
       "      <td>Rs.100.00 credited to a/c *4244 on 08/05/2024 ...</td>\n",
       "      <td>0</td>\n",
       "      <td>1</td>\n",
       "    </tr>\n",
       "    <tr>\n",
       "      <th>4</th>\n",
       "      <td>Qwerty has requested money from you on PhonePe...</td>\n",
       "      <td>0</td>\n",
       "      <td>1</td>\n",
       "    </tr>\n",
       "    <tr>\n",
       "      <th>...</th>\n",
       "      <td>...</td>\n",
       "      <td>...</td>\n",
       "      <td>...</td>\n",
       "    </tr>\n",
       "    <tr>\n",
       "      <th>62</th>\n",
       "      <td>Short on funds? Get Rs475000 Loan on your HDFC...</td>\n",
       "      <td>1</td>\n",
       "      <td>0</td>\n",
       "    </tr>\n",
       "    <tr>\n",
       "      <th>63</th>\n",
       "      <td>Avail instant disbursement with HDFC Bank Rs. ...</td>\n",
       "      <td>1</td>\n",
       "      <td>0</td>\n",
       "    </tr>\n",
       "    <tr>\n",
       "      <th>64</th>\n",
       "      <td>Hi  In need of instant cash? Rs.600000 @0.99% ...</td>\n",
       "      <td>1</td>\n",
       "      <td>0</td>\n",
       "    </tr>\n",
       "    <tr>\n",
       "      <th>65</th>\n",
       "      <td>Dear Easy steps to cash: HDFC Bank Personal Lo...</td>\n",
       "      <td>1</td>\n",
       "      <td>0</td>\n",
       "    </tr>\n",
       "    <tr>\n",
       "      <th>66</th>\n",
       "      <td>Hurry ! Only  2 days left to get Rs.300000 loa...</td>\n",
       "      <td>1</td>\n",
       "      <td>0</td>\n",
       "    </tr>\n",
       "  </tbody>\n",
       "</table>\n",
       "<p>67 rows × 3 columns</p>\n",
       "</div>"
      ],
      "text/plain": [
       "                                              Message  Type_Bank Promo  \\\n",
       "0   Rs.400.00 credited to a/c *1234 on 06/06/2024 ...                0   \n",
       "1   A/c *4354 debited Rs. 10000.00 on 13-06-24 to ...                0   \n",
       "2   Rs.12100.00 credited to a/c *8984 on 29/05/202...                0   \n",
       "3   Rs.100.00 credited to a/c *4244 on 08/05/2024 ...                0   \n",
       "4   Qwerty has requested money from you on PhonePe...                0   \n",
       "..                                                ...              ...   \n",
       "62  Short on funds? Get Rs475000 Loan on your HDFC...                1   \n",
       "63  Avail instant disbursement with HDFC Bank Rs. ...                1   \n",
       "64  Hi  In need of instant cash? Rs.600000 @0.99% ...                1   \n",
       "65  Dear Easy steps to cash: HDFC Bank Personal Lo...                1   \n",
       "66  Hurry ! Only  2 days left to get Rs.300000 loa...                1   \n",
       "\n",
       "    Type_Transaction  \n",
       "0                  1  \n",
       "1                  1  \n",
       "2                  1  \n",
       "3                  1  \n",
       "4                  1  \n",
       "..               ...  \n",
       "62                 0  \n",
       "63                 0  \n",
       "64                 0  \n",
       "65                 0  \n",
       "66                 0  \n",
       "\n",
       "[67 rows x 3 columns]"
      ]
     },
     "execution_count": 11,
     "metadata": {},
     "output_type": "execute_result"
    }
   ],
   "source": [
    "mod_data = pd.get_dummies(data, columns = ['Type'], dtype=int)\n",
    "mod_data"
   ]
  },
  {
   "cell_type": "code",
   "execution_count": 13,
   "id": "e3c8c8db",
   "metadata": {},
   "outputs": [],
   "source": [
    "import tensorflow as tf\n",
    "from tensorflow.keras.layers import TextVectorization"
   ]
  },
  {
   "cell_type": "code",
   "execution_count": 14,
   "id": "7ce714ae",
   "metadata": {},
   "outputs": [],
   "source": [
    "X = mod_data['Message']\n",
    "y = mod_data[mod_data.columns[1:]].values"
   ]
  },
  {
   "cell_type": "code",
   "execution_count": 15,
   "id": "dbf31b35",
   "metadata": {},
   "outputs": [],
   "source": [
    "MAX_FEATURES = 200000 \n",
    "# number of words in the vocab\n",
    "# drop this number if Ram usage is more"
   ]
  },
  {
   "cell_type": "code",
   "execution_count": 16,
   "id": "0ba69646",
   "metadata": {},
   "outputs": [],
   "source": [
    "vectorizer = TextVectorization(max_tokens=MAX_FEATURES,\n",
    "                               output_sequence_length=1800,\n",
    "                               output_mode='int')"
   ]
  },
  {
   "cell_type": "code",
   "execution_count": 17,
   "id": "280d1ff3",
   "metadata": {},
   "outputs": [],
   "source": [
    "vectorizer.adapt(X.values)"
   ]
  },
  {
   "cell_type": "code",
   "execution_count": 28,
   "id": "65c2c64a",
   "metadata": {},
   "outputs": [],
   "source": [
    "# Pickle the config and weights\n",
    "pickle.dump({'config': vectorizer.get_config(),\n",
    "             'weights': vectorizer.get_weights()}\n",
    "            , open(\"tv_layer.pkl\", \"wb\"))"
   ]
  },
  {
   "cell_type": "code",
   "execution_count": 60,
   "id": "4b558ad7",
   "metadata": {},
   "outputs": [
    {
     "name": "stdout",
     "output_type": "stream",
     "text": [
      "tf.Tensor([1 0 0 ... 0 0 0], shape=(1800,), dtype=int64)\n"
     ]
    }
   ],
   "source": [
    "from_disk = pickle.load(open(\"tv_layer.pkl\", \"rb\"))\n",
    "new_v = TextVectorization.from_config(from_disk['config'])\n",
    "# You have to call `adapt` with some dummy data (BUG in Keras)\n",
    "new_v.adapt(tf.data.Dataset.from_tensor_slices([\"xyz\"]))\n",
    "new_v.set_weights(from_disk['weights'])\n",
    "\n",
    "# Lets see the Vector for word \"this\"\n",
    "print (new_v(\"this\"))"
   ]
  },
  {
   "cell_type": "code",
   "execution_count": 18,
   "id": "6c4f3c3f",
   "metadata": {},
   "outputs": [],
   "source": [
    "vectorized_text = vectorizer(X.values)"
   ]
  },
  {
   "cell_type": "code",
   "execution_count": 19,
   "id": "a831d9b7",
   "metadata": {},
   "outputs": [
    {
     "data": {
      "text/plain": [
       "<tf.Tensor: shape=(67, 1800), dtype=int64, numpy=\n",
       "array([[ 72,  30,   2, ...,   0,   0,   0],\n",
       "       [  5, 272,  36, ...,   0,   0,   0],\n",
       "       [107,  30,   2, ...,   0,   0,   0],\n",
       "       ...,\n",
       "       [ 87,  86, 209, ...,   0,   0,   0],\n",
       "       [ 65, 249, 175, ...,   0,   0,   0],\n",
       "       [219, 205, 146, ...,   0,   0,   0]], dtype=int64)>"
      ]
     },
     "execution_count": 19,
     "metadata": {},
     "output_type": "execute_result"
    }
   ],
   "source": [
    "vectorized_text"
   ]
  },
  {
   "cell_type": "code",
   "execution_count": 20,
   "id": "bb2d0de8",
   "metadata": {},
   "outputs": [],
   "source": [
    "#MCSHBAP - map, chache, shuffle, batch, prefetch  from_tensor_slices, list_file\n",
    "dataset = tf.data.Dataset.from_tensor_slices((vectorized_text, y))\n",
    "dataset = dataset.cache()\n",
    "dataset = dataset.shuffle(160000)\n",
    "dataset = dataset.batch(16)\n",
    "dataset = dataset.prefetch(8) # helps prevent bottlenecks"
   ]
  },
  {
   "cell_type": "code",
   "execution_count": 21,
   "id": "d0dcd8d3",
   "metadata": {},
   "outputs": [],
   "source": [
    "batch_X, batch_y = dataset.as_numpy_iterator().next()"
   ]
  },
  {
   "cell_type": "code",
   "execution_count": 22,
   "id": "cc5107af",
   "metadata": {},
   "outputs": [
    {
     "data": {
      "text/plain": [
       "(16, 2)"
      ]
     },
     "execution_count": 22,
     "metadata": {},
     "output_type": "execute_result"
    }
   ],
   "source": [
    "batch_y.shape"
   ]
  },
  {
   "cell_type": "code",
   "execution_count": 35,
   "id": "6e3f6dc9",
   "metadata": {},
   "outputs": [
    {
     "data": {
      "text/plain": [
       "5"
      ]
     },
     "execution_count": 35,
     "metadata": {},
     "output_type": "execute_result"
    }
   ],
   "source": [
    "len(dataset)"
   ]
  },
  {
   "cell_type": "code",
   "execution_count": 23,
   "id": "12d7e5d1",
   "metadata": {},
   "outputs": [],
   "source": [
    "train_size = max(int(len(dataset) * 0.7), 1)\n",
    "val_size = max(int(len(dataset) * 0.2), 1)\n",
    "test_size = max(int(len(dataset) * 0.1), 1)\n",
    "\n",
    "train = dataset.take(train_size)\n",
    "val = dataset.skip(train_size).take(val_size)\n",
    "test = dataset.skip(train_size + val_size).take(test_size)"
   ]
  },
  {
   "cell_type": "code",
   "execution_count": 37,
   "id": "6687b7ba",
   "metadata": {},
   "outputs": [
    {
     "name": "stdout",
     "output_type": "stream",
     "text": [
      "1\n"
     ]
    }
   ],
   "source": [
    "print(val_size)"
   ]
  },
  {
   "cell_type": "code",
   "execution_count": 24,
   "id": "b06fdf5a",
   "metadata": {},
   "outputs": [],
   "source": [
    "from tensorflow.keras.models import Sequential\n",
    "from tensorflow.keras.layers import LSTM, Dropout, Bidirectional, Dense, Embedding"
   ]
  },
  {
   "cell_type": "code",
   "execution_count": 25,
   "id": "4ba9ac3f",
   "metadata": {},
   "outputs": [],
   "source": [
    "model = Sequential()\n",
    "# Create the embedding layer \n",
    "model.add(Embedding(MAX_FEATURES+1, 32))\n",
    "# Bidirectional LSTM Layer\n",
    "model.add(Bidirectional(LSTM(32, activation='tanh')))\n",
    "# Feature extractor Fully connected layers\n",
    "model.add(Dense(128, activation='relu'))\n",
    "model.add(Dense(256, activation='relu'))\n",
    "model.add(Dense(128, activation='relu'))\n",
    "# Final layer \n",
    "model.add(Dense(2, activation='sigmoid'))"
   ]
  },
  {
   "cell_type": "code",
   "execution_count": 26,
   "id": "18000d04",
   "metadata": {},
   "outputs": [],
   "source": [
    "model.compile(loss='BinaryCrossentropy', optimizer='Adam')"
   ]
  },
  {
   "cell_type": "code",
   "execution_count": 27,
   "id": "272ef28b",
   "metadata": {},
   "outputs": [
    {
     "name": "stdout",
     "output_type": "stream",
     "text": [
      "Model: \"sequential\"\n",
      "_________________________________________________________________\n",
      " Layer (type)                Output Shape              Param #   \n",
      "=================================================================\n",
      " embedding (Embedding)       (None, None, 32)          6400032   \n",
      "                                                                 \n",
      " bidirectional (Bidirection  (None, 64)                16640     \n",
      " al)                                                             \n",
      "                                                                 \n",
      " dense (Dense)               (None, 128)               8320      \n",
      "                                                                 \n",
      " dense_1 (Dense)             (None, 256)               33024     \n",
      "                                                                 \n",
      " dense_2 (Dense)             (None, 128)               32896     \n",
      "                                                                 \n",
      " dense_3 (Dense)             (None, 2)                 258       \n",
      "                                                                 \n",
      "=================================================================\n",
      "Total params: 6491170 (24.76 MB)\n",
      "Trainable params: 6491170 (24.76 MB)\n",
      "Non-trainable params: 0 (0.00 Byte)\n",
      "_________________________________________________________________\n"
     ]
    }
   ],
   "source": [
    "model.summary()"
   ]
  },
  {
   "cell_type": "code",
   "execution_count": 43,
   "id": "8c4a2858",
   "metadata": {},
   "outputs": [],
   "source": [
    "pickle.dump(model, open('model.pkl', 'wb'))"
   ]
  },
  {
   "cell_type": "code",
   "execution_count": 28,
   "id": "28dea728",
   "metadata": {},
   "outputs": [
    {
     "name": "stdout",
     "output_type": "stream",
     "text": [
      "Epoch 1/12\n",
      "3/3 [==============================] - 24s 3s/step - loss: 0.6898 - val_loss: 0.6832\n",
      "Epoch 2/12\n",
      "3/3 [==============================] - 5s 2s/step - loss: 0.6767 - val_loss: 0.7084\n",
      "Epoch 3/12\n",
      "3/3 [==============================] - 5s 2s/step - loss: 0.6661 - val_loss: 0.5909\n",
      "Epoch 4/12\n",
      "3/3 [==============================] - 5s 2s/step - loss: 0.6311 - val_loss: 0.6557\n",
      "Epoch 5/12\n",
      "3/3 [==============================] - 5s 2s/step - loss: 0.5992 - val_loss: 0.5340\n",
      "Epoch 6/12\n",
      "3/3 [==============================] - 5s 2s/step - loss: 0.5551 - val_loss: 0.4784\n",
      "Epoch 7/12\n",
      "3/3 [==============================] - 5s 2s/step - loss: 0.5102 - val_loss: 0.4716\n",
      "Epoch 8/12\n",
      "3/3 [==============================] - 5s 2s/step - loss: 0.4730 - val_loss: 0.3177\n",
      "Epoch 9/12\n",
      "3/3 [==============================] - 5s 2s/step - loss: 0.3445 - val_loss: 0.2718\n",
      "Epoch 10/12\n",
      "3/3 [==============================] - 5s 2s/step - loss: 0.2544 - val_loss: 0.2315\n",
      "Epoch 11/12\n",
      "3/3 [==============================] - 5s 2s/step - loss: 0.1950 - val_loss: 0.2365\n",
      "Epoch 12/12\n",
      "3/3 [==============================] - 5s 2s/step - loss: 0.2096 - val_loss: 0.0853\n"
     ]
    }
   ],
   "source": [
    "# Define the EarlyStopping callback\n",
    "early_stopping = tf.keras.callbacks.EarlyStopping(\n",
    "    monitor='val_loss',  # Monitor validation loss\n",
    "    patience=3,           # Number of epochs with no improvement after which training will be stopped\n",
    "    restore_best_weights=True  # Restore model weights from the epoch with the best value of the monitored quantity\n",
    ")\n",
    "\n",
    "history = model.fit(train, epochs=12, validation_data=val, shuffle=True, callbacks=[early_stopping])"
   ]
  },
  {
   "cell_type": "code",
   "execution_count": 29,
   "id": "bcd755b6",
   "metadata": {},
   "outputs": [],
   "source": [
    "from matplotlib import pyplot as plt"
   ]
  },
  {
   "cell_type": "code",
   "execution_count": 30,
   "id": "f4a01119",
   "metadata": {},
   "outputs": [
    {
     "data": {
      "text/plain": [
       "<Figure size 800x500 with 0 Axes>"
      ]
     },
     "metadata": {},
     "output_type": "display_data"
    },
    {
     "data": {
      "image/png": "[encoded data removed]",
      "text/plain": [
       "<Figure size 640x480 with 1 Axes>"
      ]
     },
     "metadata": {},
     "output_type": "display_data"
    }
   ],
   "source": [
    "plt.figure(figsize=(8,5))\n",
    "pd.DataFrame(history.history).plot()\n",
    "plt.show()"
   ]
  },
  {
   "cell_type": "code",
   "execution_count": 31,
   "id": "7b3520ac",
   "metadata": {},
   "outputs": [
    {
     "data": {
      "text/plain": [
       "Index(['Type_Bank Promo', 'Type_Transaction'], dtype='object')"
      ]
     },
     "execution_count": 31,
     "metadata": {},
     "output_type": "execute_result"
    }
   ],
   "source": [
    "mod_data.columns[1:]"
   ]
  },
  {
   "cell_type": "code",
   "execution_count": 32,
   "id": "108f0e52",
   "metadata": {},
   "outputs": [],
   "source": [
    "\n",
    "input_text = vectorizer('A/c *1478 debited Rs. 500.00 on 05-07-24 to Corporation. Not you? SMS BLOCK to 9231000001 Dial 1930 for Cyber Fraud')"
   ]
  },
  {
   "cell_type": "code",
   "execution_count": 33,
   "id": "1ffc1193",
   "metadata": {},
   "outputs": [
    {
     "name": "stdout",
     "output_type": "stream",
     "text": [
      "(1, 1800)\n"
     ]
    }
   ],
   "source": [
    "print(np.shape(np.expand_dims(input_text,0)))"
   ]
  },
  {
   "cell_type": "code",
   "execution_count": 34,
   "id": "d7c2d54a",
   "metadata": {},
   "outputs": [
    {
     "name": "stdout",
     "output_type": "stream",
     "text": [
      "1/1 [==============================] - 3s 3s/step\n",
      "[[0.00371334 0.98056531]]\n"
     ]
    }
   ],
   "source": [
    "output = model.predict(np.expand_dims(input_text,0))\n",
    "# Format the output array to remove scientific notation\n",
    "formatted_output = np.array2string(output, formatter={'float_kind': lambda x: \"%.8f\" % x})\n",
    "\n",
    "print(formatted_output)"
   ]
  },
  {
   "cell_type": "code",
   "execution_count": 88,
   "id": "aa5bd41d",
   "metadata": {},
   "outputs": [],
   "source": [
    "ex = [\"A/c *1478 debited Rs. 500.00 on 05-07-24 to Corporation. Not you? SMS BLOCK to 9231000001 Dial 1930 for Cyber Fraud\"]\n",
    "from_disk = pickle.load(open(\"tv_layer.pkl\", \"rb\"))\n",
    "new_v = TextVectorization.from_config(from_disk['config'])\n",
    "# You have to call `adapt` with some dummy data (BUG in Keras)\n",
    "new_v.adapt(tf.data.Dataset.from_tensor_slices([\"xyzjhuygtf\"]))\n",
    "new_v.set_weights(from_disk['weights'])\n",
    "\n",
    "# Lets see the Vector for word \"this\"\n",
    "text = new_v(ex[0])"
   ]
  },
  {
   "cell_type": "code",
   "execution_count": 89,
   "id": "8adb7739",
   "metadata": {},
   "outputs": [
    {
     "name": "stdout",
     "output_type": "stream",
     "text": [
      "1/1 [==============================] - 0s 436ms/step\n",
      "0.5022285\n"
     ]
    }
   ],
   "source": [
    "output = model.predict(np.expand_dims(text,0))\n",
    "# Format the output array to remove scientific notation\n",
    "formatted_output = np.array(output)\n",
    "\n",
    "print(np.max(formatted_output))"
   ]
  },
  {
   "cell_type": "code",
   "execution_count": 78,
   "id": "309723f8",
   "metadata": {},
   "outputs": [],
   "source": [
    "batch = test.as_numpy_iterator().next()"
   ]
  },
  {
   "cell_type": "code",
   "execution_count": 51,
   "id": "8cbeeb0b",
   "metadata": {},
   "outputs": [],
   "source": [
    "batch_X, batch_y = test.as_numpy_iterator().next()"
   ]
  },
  {
   "cell_type": "code",
   "execution_count": 52,
   "id": "721bc284",
   "metadata": {},
   "outputs": [
    {
     "data": {
      "text/plain": [
       "array([[0, 1],\n",
       "       [1, 0],\n",
       "       [0, 0]])"
      ]
     },
     "execution_count": 52,
     "metadata": {},
     "output_type": "execute_result"
    }
   ],
   "source": [
    "batch_y"
   ]
  },
  {
   "cell_type": "code",
   "execution_count": 53,
   "id": "8e732adc",
   "metadata": {},
   "outputs": [
    {
     "name": "stdout",
     "output_type": "stream",
     "text": [
      "1/1 [==============================] - 0s 382ms/step\n"
     ]
    },
    {
     "data": {
      "text/plain": [
       "array([[0, 1],\n",
       "       [1, 0],\n",
       "       [0, 1]])"
      ]
     },
     "execution_count": 53,
     "metadata": {},
     "output_type": "execute_result"
    }
   ],
   "source": [
    "(model.predict(batch_X)>0.5).astype(int)"
   ]
  },
  {
   "cell_type": "code",
   "execution_count": 54,
   "id": "7c22b03e",
   "metadata": {},
   "outputs": [],
   "source": [
    "from tensorflow.keras.metrics import Precision, Recall, CategoricalAccuracy"
   ]
  },
  {
   "cell_type": "code",
   "execution_count": 55,
   "id": "af97acda",
   "metadata": {},
   "outputs": [],
   "source": [
    "pre = Precision()\n",
    "re = Recall()\n",
    "acc = CategoricalAccuracy()"
   ]
  },
  {
   "cell_type": "code",
   "execution_count": 56,
   "id": "a83d9618",
   "metadata": {},
   "outputs": [
    {
     "name": "stdout",
     "output_type": "stream",
     "text": [
      "1/1 [==============================] - 0s 354ms/step\n"
     ]
    }
   ],
   "source": [
    "for batch in test.as_numpy_iterator(): \n",
    "    # Unpack the batch \n",
    "    X_true, y_true = batch\n",
    "    # Make a prediction \n",
    "    yhat = model.predict(X_true)\n",
    "    \n",
    "    # Flatten the predictions\n",
    "    y_true = y_true.flatten()\n",
    "    yhat = yhat.flatten()\n",
    "    \n",
    "    pre.update_state(y_true, yhat)\n",
    "    re.update_state(y_true, yhat)\n",
    "    acc.update_state(y_true, yhat)"
   ]
  },
  {
   "cell_type": "code",
   "execution_count": 57,
   "id": "6d35c5e5",
   "metadata": {},
   "outputs": [
    {
     "name": "stdout",
     "output_type": "stream",
     "text": [
      "Precision: 1.0, Recall:1.0, Accuracy:1.0\n"
     ]
    }
   ],
   "source": [
    "print(f'Precision: {pre.result().numpy()}, Recall:{re.result().numpy()}, Accuracy:{acc.result().numpy()}')"
   ]
  },
  {
   "cell_type": "code",
   "execution_count": null,
   "id": "e7f5155e",
   "metadata": {},
   "outputs": [],
   "source": []
  }
 ],
 "metadata": {
  "kernelspec": {
   "display_name": "Python 3 (ipykernel)",
   "language": "python",
   "name": "python3"
  },
  "language_info": {
   "codemirror_mode": {
    "name": "ipython",
    "version": 3
   },
   "file_extension": ".py",
   "mimetype": "text/x-python",
   "name": "python",
   "nbconvert_exporter": "python",
   "pygments_lexer": "ipython3",
   "version": "3.8.18"
  }
 },
 "nbformat": 4,
 "nbformat_minor": 5
}
